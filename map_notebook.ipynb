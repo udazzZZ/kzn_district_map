{
 "cells": [
  {
   "cell_type": "code",
   "execution_count": 1,
   "id": "642d19be-bf83-457b-9c3c-b0a086647250",
   "metadata": {},
   "outputs": [],
   "source": [
    "import pandas as pd\n",
    "from map_renderer import MapRenderer"
   ]
  },
  {
   "cell_type": "markdown",
   "id": "535eecb0-5d7b-4bce-9d46-89edc41e888b",
   "metadata": {},
   "source": [
    "Вместо многоточия ниже подставьте путь к своему .csv-файлу"
   ]
  },
  {
   "cell_type": "code",
   "execution_count": 2,
   "id": "b75df7c8-032e-4fc4-b454-e6c60144ea4c",
   "metadata": {},
   "outputs": [],
   "source": [
    "points_df = pd.read_csv(\"C:\\\\Users\\\\ADMIN\\\\pythonProject\\\\kzn_districts_map\\\\kzn_districts_map_template\\\\points.csv\")\n",
    "districts_df = pd.read_csv(\"C:\\\\Users\\\\ADMIN\\\\pythonProject\\\\kzn_districts_map\\\\kzn_districts_map_template\\\\data.csv\")"
   ]
  },
  {
   "cell_type": "code",
   "execution_count": 3,
   "id": "2a2f356f-7a1d-4e63-a394-55b046ddf584",
   "metadata": {},
   "outputs": [
    {
     "data": {
      "text/html": [
       "<div>\n",
       "<style scoped>\n",
       "    .dataframe tbody tr th:only-of-type {\n",
       "        vertical-align: middle;\n",
       "    }\n",
       "\n",
       "    .dataframe tbody tr th {\n",
       "        vertical-align: top;\n",
       "    }\n",
       "\n",
       "    .dataframe thead th {\n",
       "        text-align: right;\n",
       "    }\n",
       "</style>\n",
       "<table border=\"1\" class=\"dataframe\">\n",
       "  <thead>\n",
       "    <tr style=\"text-align: right;\">\n",
       "      <th></th>\n",
       "      <th>district</th>\n",
       "      <th>points</th>\n",
       "      <th>center</th>\n",
       "      <th>color</th>\n",
       "    </tr>\n",
       "  </thead>\n",
       "  <tbody>\n",
       "    <tr>\n",
       "      <th>0</th>\n",
       "      <td>Советский р-н</td>\n",
       "      <td>[(55.79701666, 49.16197596), (55.85077252, 49....</td>\n",
       "      <td>(55.80066640369826, 49.223278913187386)</td>\n",
       "      <td>green</td>\n",
       "    </tr>\n",
       "    <tr>\n",
       "      <th>1</th>\n",
       "      <td>Кировский р-н</td>\n",
       "      <td>[(55.80102575, 48.98355862), (55.81410362, 49....</td>\n",
       "      <td>(55.80917736908331, 49.0473088780833)</td>\n",
       "      <td>blue</td>\n",
       "    </tr>\n",
       "    <tr>\n",
       "      <th>2</th>\n",
       "      <td>Приволжский р-н</td>\n",
       "      <td>[(55.70005112, 49.06250366), (55.75925831, 49....</td>\n",
       "      <td>(55.737072005884016, 49.16685756379711)</td>\n",
       "      <td>yellow</td>\n",
       "    </tr>\n",
       "    <tr>\n",
       "      <th>3</th>\n",
       "      <td>Московский р-н</td>\n",
       "      <td>[(55.83514383, 49.02335297), (55.84316452, 49....</td>\n",
       "      <td>(55.83297060833335, 49.06870853814814)</td>\n",
       "      <td>red</td>\n",
       "    </tr>\n",
       "    <tr>\n",
       "      <th>4</th>\n",
       "      <td>Авиастроительный р-н</td>\n",
       "      <td>[(55.8512175, 49.05064957), (55.85380298, 49.0...</td>\n",
       "      <td>(55.85446777896553, 49.09137408051725)</td>\n",
       "      <td>pink</td>\n",
       "    </tr>\n",
       "    <tr>\n",
       "      <th>5</th>\n",
       "      <td>Ново-Савиновский р-н</td>\n",
       "      <td>[(55.84317032, 49.09048384), (55.84411471, 49....</td>\n",
       "      <td>(55.83215790016129, 49.12976869362903)</td>\n",
       "      <td>white</td>\n",
       "    </tr>\n",
       "    <tr>\n",
       "      <th>6</th>\n",
       "      <td>Вахитовский р-н</td>\n",
       "      <td>[(55.76170341, 49.07853502), (55.79695093, 49....</td>\n",
       "      <td>(55.78388507437498, 49.128690148958306)</td>\n",
       "      <td>black</td>\n",
       "    </tr>\n",
       "    <tr>\n",
       "      <th>7</th>\n",
       "      <td>Верхнеуслонский р-н</td>\n",
       "      <td>[(55.7681986, 48.98036832), (55.76988209, 48.9...</td>\n",
       "      <td>(55.765367782000006, 48.98666391933334)</td>\n",
       "      <td>brown</td>\n",
       "    </tr>\n",
       "  </tbody>\n",
       "</table>\n",
       "</div>"
      ],
      "text/plain": [
       "               district                                             points  \\\n",
       "0         Советский р-н  [(55.79701666, 49.16197596), (55.85077252, 49....   \n",
       "1         Кировский р-н  [(55.80102575, 48.98355862), (55.81410362, 49....   \n",
       "2       Приволжский р-н  [(55.70005112, 49.06250366), (55.75925831, 49....   \n",
       "3        Московский р-н  [(55.83514383, 49.02335297), (55.84316452, 49....   \n",
       "4  Авиастроительный р-н  [(55.8512175, 49.05064957), (55.85380298, 49.0...   \n",
       "5  Ново-Савиновский р-н  [(55.84317032, 49.09048384), (55.84411471, 49....   \n",
       "6       Вахитовский р-н  [(55.76170341, 49.07853502), (55.79695093, 49....   \n",
       "7   Верхнеуслонский р-н  [(55.7681986, 48.98036832), (55.76988209, 48.9...   \n",
       "\n",
       "                                    center   color  \n",
       "0  (55.80066640369826, 49.223278913187386)   green  \n",
       "1    (55.80917736908331, 49.0473088780833)    blue  \n",
       "2  (55.737072005884016, 49.16685756379711)  yellow  \n",
       "3   (55.83297060833335, 49.06870853814814)     red  \n",
       "4   (55.85446777896553, 49.09137408051725)    pink  \n",
       "5   (55.83215790016129, 49.12976869362903)   white  \n",
       "6  (55.78388507437498, 49.128690148958306)   black  \n",
       "7  (55.765367782000006, 48.98666391933334)   brown  "
      ]
     },
     "execution_count": 3,
     "metadata": {},
     "output_type": "execute_result"
    }
   ],
   "source": [
    "districts_df"
   ]
  },
  {
   "cell_type": "code",
   "execution_count": 4,
   "id": "144f548b-7f96-48bb-9225-29ecd2f057f9",
   "metadata": {},
   "outputs": [],
   "source": [
    "renderer = MapRenderer(districts_df, points_df)"
   ]
  },
  {
   "cell_type": "code",
   "execution_count": 5,
   "id": "757d5fe5-4239-41a4-b41d-794fe7ffabb9",
   "metadata": {},
   "outputs": [
    {
     "data": {
      "application/vnd.jupyter.widget-view+json": {
       "model_id": "c0f70cb74a0848e98bb92c422d4543c4",
       "version_major": 2,
       "version_minor": 0
      },
      "text/plain": [
       "Map(center=[55.796127, 49.106414], controls=(ZoomControl(options=['position', 'zoom_in_text', 'zoom_in_title',…"
      ]
     },
     "execution_count": 5,
     "metadata": {},
     "output_type": "execute_result"
    }
   ],
   "source": [
    "renderer.get_map()"
   ]
  }
 ],
 "metadata": {
  "kernelspec": {
   "display_name": "Python 3 (ipykernel)",
   "language": "python",
   "name": "python3"
  },
  "language_info": {
   "codemirror_mode": {
    "name": "ipython",
    "version": 3
   },
   "file_extension": ".py",
   "mimetype": "text/x-python",
   "name": "python",
   "nbconvert_exporter": "python",
   "pygments_lexer": "ipython3",
   "version": "3.10.8"
  }
 },
 "nbformat": 4,
 "nbformat_minor": 5
}
